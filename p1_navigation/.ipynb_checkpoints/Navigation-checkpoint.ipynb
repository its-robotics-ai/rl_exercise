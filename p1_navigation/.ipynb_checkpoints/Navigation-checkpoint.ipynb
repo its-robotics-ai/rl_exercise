{
 "cells": [
  {
   "cell_type": "markdown",
   "metadata": {},
   "source": [
    "# Navigation\n",
    "\n",
    "---\n",
    "\n",
    "In this notebook, you will learn how to use the Unity ML-Agents environment for the first project of the [Deep Reinforcement Learning Nanodegree](https://www.udacity.com/course/deep-reinforcement-learning-nanodegree--nd893).\n",
    "\n",
    "### 1. Start the Environment\n",
    "\n",
    "We begin by importing some necessary packages.  If the code cell below returns an error, please revisit the project instructions to double-check that you have installed [Unity ML-Agents](https://github.com/Unity-Technologies/ml-agents/blob/master/docs/Installation.md) and [NumPy](http://www.numpy.org/)."
   ]
  },
  {
   "cell_type": "code",
   "execution_count": 1,
   "metadata": {},
   "outputs": [],
   "source": [
    "from unityagents import UnityEnvironment\n",
    "import numpy as np"
   ]
  },
  {
   "cell_type": "markdown",
   "metadata": {},
   "source": [
    "Next, we will start the environment!  **_Before running the code cell below_**, change the `file_name` parameter to match the location of the Unity environment that you downloaded.\n",
    "\n",
    "- **Mac**: `\"path/to/Banana.app\"`\n",
    "- **Windows** (x86): `\"path/to/Banana_Windows_x86/Banana.exe\"`\n",
    "- **Windows** (x86_64): `\"path/to/Banana_Windows_x86_64/Banana.exe\"`\n",
    "- **Linux** (x86): `\"path/to/Banana_Linux/Banana.x86\"`\n",
    "- **Linux** (x86_64): `\"path/to/Banana_Linux/Banana.x86_64\"`\n",
    "- **Linux** (x86, headless): `\"path/to/Banana_Linux_NoVis/Banana.x86\"`\n",
    "- **Linux** (x86_64, headless): `\"path/to/Banana_Linux_NoVis/Banana.x86_64\"`\n",
    "\n",
    "For instance, if you are using a Mac, then you downloaded `Banana.app`.  If this file is in the same folder as the notebook, then the line below should appear as follows:\n",
    "```\n",
    "env = UnityEnvironment(file_name=\"Banana.app\")\n",
    "```"
   ]
  },
  {
   "cell_type": "code",
   "execution_count": 2,
   "metadata": {},
   "outputs": [
    {
     "name": "stderr",
     "output_type": "stream",
     "text": [
      "INFO:unityagents:\n",
      "'Academy' started successfully!\n",
      "Unity Academy name: Academy\n",
      "        Number of Brains: 1\n",
      "        Number of External Brains : 1\n",
      "        Lesson number : 0\n",
      "        Reset Parameters :\n",
      "\t\t\n",
      "Unity brain name: BananaBrain\n",
      "        Number of Visual Observations (per agent): 0\n",
      "        Vector Observation space type: continuous\n",
      "        Vector Observation space size (per agent): 37\n",
      "        Number of stacked Vector Observation: 1\n",
      "        Vector Action space type: discrete\n",
      "        Vector Action space size (per agent): 4\n",
      "        Vector Action descriptions: , , , \n"
     ]
    }
   ],
   "source": [
    "env = UnityEnvironment(file_name=\"Banana.app\")"
   ]
  },
  {
   "cell_type": "markdown",
   "metadata": {},
   "source": [
    "Environments contain **_brains_** which are responsible for deciding the actions of their associated agents. Here we check for the first brain available, and set it as the default brain we will be controlling from Python."
   ]
  },
  {
   "cell_type": "code",
   "execution_count": 3,
   "metadata": {},
   "outputs": [],
   "source": [
    "# get the default brain\n",
    "brain_name = env.brain_names[0]\n",
    "brain = env.brains[brain_name]"
   ]
  },
  {
   "cell_type": "markdown",
   "metadata": {},
   "source": [
    "### 2. Examine the State and Action Spaces\n",
    "\n",
    "The simulation contains a single agent that navigates a large environment.  At each time step, it has four actions at its disposal:\n",
    "- `0` - walk forward \n",
    "- `1` - walk backward\n",
    "- `2` - turn left\n",
    "- `3` - turn right\n",
    "\n",
    "The state space has `37` dimensions and contains the agent's velocity, along with ray-based perception of objects around agent's forward direction.  A reward of `+1` is provided for collecting a yellow banana, and a reward of `-1` is provided for collecting a blue banana. \n",
    "\n",
    "Run the code cell below to print some information about the environment."
   ]
  },
  {
   "cell_type": "code",
   "execution_count": 4,
   "metadata": {},
   "outputs": [
    {
     "name": "stdout",
     "output_type": "stream",
     "text": [
      "Number of agents: 1\n",
      "Number of actions: 4\n",
      "States look like: [1.         0.         0.         0.         0.84408134 0.\n",
      " 0.         1.         0.         0.0748472  0.         1.\n",
      " 0.         0.         0.25755    1.         0.         0.\n",
      " 0.         0.74177343 0.         1.         0.         0.\n",
      " 0.25854847 0.         0.         1.         0.         0.09355672\n",
      " 0.         1.         0.         0.         0.31969345 0.\n",
      " 0.        ]\n",
      "States have length: 37\n"
     ]
    }
   ],
   "source": [
    "# reset the environment\n",
    "env_info = env.reset(train_mode=True)[brain_name]\n",
    "\n",
    "# number of agents in the environment\n",
    "print('Number of agents:', len(env_info.agents))\n",
    "\n",
    "# number of actions\n",
    "action_size = brain.vector_action_space_size\n",
    "print('Number of actions:', action_size)\n",
    "\n",
    "# examine the state space \n",
    "state = env_info.vector_observations[0]\n",
    "print('States look like:', state)\n",
    "state_size = len(state)\n",
    "print('States have length:', state_size)"
   ]
  },
  {
   "cell_type": "markdown",
   "metadata": {},
   "source": [
    "### 3. Take Random Actions in the Environment\n",
    "\n",
    "In the next code cell, you will learn how to use the Python API to control the agent and receive feedback from the environment.\n",
    "\n",
    "Once this cell is executed, you will watch the agent's performance, if it selects an action (uniformly) at random with each time step.  A window should pop up that allows you to observe the agent, as it moves through the environment.  \n",
    "\n",
    "Of course, as part of the project, you'll have to change the code so that the agent is able to use its experience to gradually choose better actions when interacting with the environment!\n",
    "\n",
    "[Unity Environment API doc](https://github.com/Unity-Technologies/ml-agents/blob/main/docs/Python-API.md)"
   ]
  },
  {
   "cell_type": "code",
   "execution_count": 9,
   "metadata": {},
   "outputs": [
    {
     "name": "stdout",
     "output_type": "stream",
     "text": [
      "1\n",
      "action: 1, reward: 0.0, score: 0.0, state: [ 0.00000000e+00  0.00000000e+00  1.00000000e+00  0.00000000e+00\n",
      "  3.69336843e-01  0.00000000e+00  1.00000000e+00  0.00000000e+00\n",
      "  0.00000000e+00  7.87579119e-01  1.00000000e+00  0.00000000e+00\n",
      "  0.00000000e+00  0.00000000e+00  2.16761470e-01  1.00000000e+00\n",
      "  0.00000000e+00  0.00000000e+00  0.00000000e+00  4.04390752e-01\n",
      "  0.00000000e+00  1.00000000e+00  0.00000000e+00  0.00000000e+00\n",
      "  5.08179784e-01  0.00000000e+00  0.00000000e+00  0.00000000e+00\n",
      "  1.00000000e+00  0.00000000e+00  0.00000000e+00  1.00000000e+00\n",
      "  0.00000000e+00  0.00000000e+00  5.84562540e-01 -4.76837158e-07\n",
      " -7.81049490e+00]\n",
      "3\n",
      "action: 3, reward: 0.0, score: 0.0, state: [ 1.          0.          0.          0.          0.47345954  0.\n",
      "  0.          1.          0.          0.20881249  1.          0.\n",
      "  0.          0.          0.27994701  0.          0.          1.\n",
      "  0.          0.35170749  0.          1.          0.          0.\n",
      "  0.62614995  1.          0.          0.          0.          0.25202745\n",
      "  0.          0.          1.          0.          0.64616168  2.28076768\n",
      " -3.95040965]\n",
      "0\n",
      "action: 0, reward: 0.0, score: 0.0, state: [1.         0.         0.         0.         0.46488243 0.\n",
      " 0.         1.         0.         0.20373544 1.         0.\n",
      " 0.         0.         0.27516457 0.         0.         1.\n",
      " 0.         0.34438184 0.         1.         0.         0.\n",
      " 0.6306119  1.         0.         0.         0.         0.24454908\n",
      " 0.         0.         1.         0.         0.64558035 2.16898751\n",
      " 5.94717312]\n",
      "0\n",
      "action: 0, reward: 0.0, score: 0.0, state: [1.         0.         0.         0.         0.45303929 0.\n",
      " 0.         1.         0.         0.18686394 1.         0.\n",
      " 0.         0.         0.2774075  0.         0.         1.\n",
      " 0.         0.33159012 0.         1.         0.         0.\n",
      " 0.6302197  1.         0.         0.         0.         0.22853537\n",
      " 0.         0.         1.         0.         0.6353004  0.91522503\n",
      " 9.73041725]\n",
      "0\n",
      "action: 0, reward: 0.0, score: 0.0, state: [ 0.          0.          0.          1.          0.          0.\n",
      "  0.          1.          0.          0.16534656  1.          0.\n",
      "  0.          0.          0.2875914   0.          0.          1.\n",
      "  0.          0.32295427  0.          1.          0.          0.\n",
      "  0.62699282  1.          0.          0.          0.          0.21181303\n",
      "  0.          0.          1.          0.          0.62033278  0.38618743\n",
      " 11.32679462]\n",
      "0\n",
      "action: 0, reward: 0.0, score: 0.0, state: [ 1.          0.          0.          0.          0.87333739  0.\n",
      "  0.          1.          0.          0.14182521  1.          0.\n",
      "  0.          0.          0.3004905   0.          0.          1.\n",
      "  0.          0.31433886  0.          1.          0.          0.\n",
      "  0.62256974  1.          0.          0.          0.          0.19437665\n",
      "  0.          0.          1.          0.          0.60333651  0.16295564\n",
      " 12.00040054]\n",
      "3\n",
      "action: 3, reward: 0.0, score: 0.0, state: [ 0.          0.          1.          0.          0.59330618  1.\n",
      "  0.          0.          0.          0.17686184  0.          1.\n",
      "  0.          0.          0.66264814  1.          0.          0.\n",
      "  0.          0.45550343  0.          0.          1.          0.\n",
      "  0.12922777  0.          0.          1.          0.          0.29690444\n",
      "  0.          0.          1.          0.          0.13123921 -2.47228956\n",
      "  4.41965914]\n",
      "0\n",
      "action: 0, reward: 0.0, score: 0.0, state: [ 0.          0.          1.          0.          0.59674323  1.\n",
      "  0.          0.          0.          0.16004747  0.          1.\n",
      "  0.          0.          0.66532624  0.          0.          0.\n",
      "  1.          0.          0.          0.          1.          0.\n",
      "  0.11600172  0.          0.          1.          0.          0.2879481\n",
      "  0.          0.          1.          0.          0.11916834 -0.82870972\n",
      "  7.65147018]\n",
      "0\n",
      "action: 0, reward: 0.0, score: 0.0, state: [ 0.          0.          0.          1.          0.          1.\n",
      "  0.          0.          0.          0.14158304  0.          1.\n",
      "  0.          0.          0.67214429  0.          0.          1.\n",
      "  0.          0.35724652  0.          0.          1.          0.\n",
      "  0.10035151  0.          0.          1.          0.          0.27433208\n",
      "  0.          0.          0.          1.          0.         -0.30635405\n",
      "  9.58583832]\n",
      "0\n",
      "action: 0, reward: 0.0, score: 0.0, state: [ 1.          0.          0.          0.          0.3787207   1.\n",
      "  0.          0.          0.          0.12111506  0.          0.\n",
      "  1.          0.          0.10244093  0.          0.          1.\n",
      "  0.          0.317947    0.          0.          1.          0.\n",
      "  0.08299739  0.          0.          1.          0.          0.2583566\n",
      "  1.          0.          0.          0.          0.30143803 -0.115381\n",
      " 10.41585636]\n",
      "0\n",
      "action: 0, reward: 0.0, score: 0.0, state: [ 1.          0.          0.          0.          0.35572532  1.\n",
      "  0.          0.          0.          0.09974936  0.          0.\n",
      "  1.          0.          0.07882469  0.          0.          1.\n",
      "  0.          0.30677438  0.          0.          1.          0.\n",
      "  0.06490684  0.          0.          1.          0.          0.24140625\n",
      "  1.          0.          0.          0.          0.26119468 -0.04369044\n",
      " 10.76598454]\n",
      "0\n",
      "action: 0, reward: 0.0, score: 0.0, state: [ 1.          0.          0.          0.          0.33493152  1.\n",
      "  0.          0.          0.          0.07799558  0.          0.\n",
      "  1.          0.          0.05647087  0.          0.          1.\n",
      "  0.          0.29565489  0.          0.          1.          0.\n",
      "  0.05818865  0.          0.          1.          0.          0.19010891\n",
      "  1.          0.          0.          0.          0.09554894 -0.01657963\n",
      " 10.91371155]\n",
      "0\n",
      "action: 0, reward: 0.0, score: 0.0, state: [ 1.00000000e+00  0.00000000e+00  0.00000000e+00  0.00000000e+00\n",
      "  3.47379088e-01  1.00000000e+00  0.00000000e+00  0.00000000e+00\n",
      "  0.00000000e+00  5.60756959e-02  0.00000000e+00  0.00000000e+00\n",
      "  1.00000000e+00  0.00000000e+00  4.12321724e-02  0.00000000e+00\n",
      "  0.00000000e+00  1.00000000e+00  0.00000000e+00  2.84413964e-01\n",
      "  0.00000000e+00  0.00000000e+00  0.00000000e+00  1.00000000e+00\n",
      "  0.00000000e+00  0.00000000e+00  0.00000000e+00  1.00000000e+00\n",
      "  0.00000000e+00  1.62769705e-01  1.00000000e+00  0.00000000e+00\n",
      "  0.00000000e+00  0.00000000e+00  6.58153892e-02 -6.29711151e-03\n",
      "  1.09760456e+01]\n",
      "0\n",
      "action: 0, reward: 0.0, score: 0.0, state: [ 0.00000000e+00  0.00000000e+00  1.00000000e+00  0.00000000e+00\n",
      "  4.13893878e-01  1.00000000e+00  0.00000000e+00  0.00000000e+00\n",
      "  0.00000000e+00  3.40849645e-02  0.00000000e+00  0.00000000e+00\n",
      "  1.00000000e+00  0.00000000e+00  5.15451670e-01  0.00000000e+00\n",
      "  0.00000000e+00  1.00000000e+00  0.00000000e+00  1.76775709e-01\n",
      "  0.00000000e+00  0.00000000e+00  0.00000000e+00  1.00000000e+00\n",
      "  0.00000000e+00  0.00000000e+00  0.00000000e+00  1.00000000e+00\n",
      "  0.00000000e+00  1.39773846e-01  1.00000000e+00  0.00000000e+00\n",
      "  0.00000000e+00  0.00000000e+00  3.82533632e-02 -2.39229202e-03\n",
      "  1.10023489e+01]\n",
      "0\n",
      "action: 0, reward: 0.0, score: 0.0, state: [ 1.00000000e+00  0.00000000e+00  0.00000000e+00  0.00000000e+00\n",
      "  3.66890788e-01  1.00000000e+00  0.00000000e+00  0.00000000e+00\n",
      "  0.00000000e+00  1.20641347e-02  0.00000000e+00  0.00000000e+00\n",
      "  1.00000000e+00  0.00000000e+00  4.88128424e-01  0.00000000e+00\n",
      "  0.00000000e+00  1.00000000e+00  0.00000000e+00  1.58849418e-01\n",
      "  1.00000000e+00  0.00000000e+00  0.00000000e+00  0.00000000e+00\n",
      "  2.05457974e-02  1.00000000e+00  0.00000000e+00  0.00000000e+00\n",
      "  0.00000000e+00  4.59337868e-02  1.00000000e+00  0.00000000e+00\n",
      "  0.00000000e+00  0.00000000e+00  1.18162129e-02 -9.09090042e-04\n",
      "  1.10134468e+01]\n",
      "0\n",
      "action: 0, reward: 1.0, score: 1.0, state: [ 1.00000000e+00  0.00000000e+00  0.00000000e+00  0.00000000e+00\n",
      "  3.44015777e-01  0.00000000e+00  0.00000000e+00  1.00000000e+00\n",
      "  0.00000000e+00  9.29322317e-02  0.00000000e+00  0.00000000e+00\n",
      "  1.00000000e+00  0.00000000e+00  4.84937906e-01  0.00000000e+00\n",
      "  0.00000000e+00  1.00000000e+00  0.00000000e+00  1.44980520e-01\n",
      "  0.00000000e+00  0.00000000e+00  0.00000000e+00  1.00000000e+00\n",
      "  0.00000000e+00  0.00000000e+00  0.00000000e+00  1.00000000e+00\n",
      "  0.00000000e+00  9.71969441e-02  1.00000000e+00  0.00000000e+00\n",
      "  0.00000000e+00  0.00000000e+00  1.65131509e-01 -4.40835953e-04\n",
      "  7.84350491e+00]\n"
     ]
    },
    {
     "ename": "KeyboardInterrupt",
     "evalue": "Interrupted by user",
     "output_type": "error",
     "traceback": [
      "\u001b[0;31m---------------------------------------------------------------------------\u001b[0m",
      "\u001b[0;31mKeyboardInterrupt\u001b[0m                         Traceback (most recent call last)",
      "\u001b[0;32m<ipython-input-9-eea120b9a2d6>\u001b[0m in \u001b[0;36m<module>\u001b[0;34m\u001b[0m\n\u001b[1;32m      4\u001b[0m \u001b[0;32mwhile\u001b[0m \u001b[0;32mTrue\u001b[0m\u001b[0;34m:\u001b[0m\u001b[0;34m\u001b[0m\u001b[0;34m\u001b[0m\u001b[0m\n\u001b[1;32m      5\u001b[0m    \u001b[0;31m# action = np.random.randint(action_size)        # select an action\u001b[0m\u001b[0;34m\u001b[0m\u001b[0;34m\u001b[0m\u001b[0;34m\u001b[0m\u001b[0m\n\u001b[0;32m----> 6\u001b[0;31m     \u001b[0maction\u001b[0m \u001b[0;34m=\u001b[0m \u001b[0mint\u001b[0m\u001b[0;34m(\u001b[0m\u001b[0minput\u001b[0m\u001b[0;34m(\u001b[0m\u001b[0;34m)\u001b[0m\u001b[0;34m)\u001b[0m\u001b[0;34m\u001b[0m\u001b[0;34m\u001b[0m\u001b[0m\n\u001b[0m\u001b[1;32m      7\u001b[0m     \u001b[0menv_info\u001b[0m \u001b[0;34m=\u001b[0m \u001b[0menv\u001b[0m\u001b[0;34m.\u001b[0m\u001b[0mstep\u001b[0m\u001b[0;34m(\u001b[0m\u001b[0maction\u001b[0m\u001b[0;34m)\u001b[0m\u001b[0;34m[\u001b[0m\u001b[0mbrain_name\u001b[0m\u001b[0;34m]\u001b[0m        \u001b[0;31m# send the action to the environment\u001b[0m\u001b[0;34m\u001b[0m\u001b[0;34m\u001b[0m\u001b[0m\n\u001b[1;32m      8\u001b[0m     \u001b[0mnext_state\u001b[0m \u001b[0;34m=\u001b[0m \u001b[0menv_info\u001b[0m\u001b[0;34m.\u001b[0m\u001b[0mvector_observations\u001b[0m\u001b[0;34m[\u001b[0m\u001b[0;36m0\u001b[0m\u001b[0;34m]\u001b[0m   \u001b[0;31m# get the next state\u001b[0m\u001b[0;34m\u001b[0m\u001b[0;34m\u001b[0m\u001b[0m\n",
      "\u001b[0;32m~/anaconda3/envs/modu_robai_drlnd/lib/python3.6/site-packages/ipykernel/kernelbase.py\u001b[0m in \u001b[0;36mraw_input\u001b[0;34m(self, prompt)\u001b[0m\n\u001b[1;32m    852\u001b[0m             \u001b[0mself\u001b[0m\u001b[0;34m.\u001b[0m\u001b[0m_parent_ident\u001b[0m\u001b[0;34m,\u001b[0m\u001b[0;34m\u001b[0m\u001b[0;34m\u001b[0m\u001b[0m\n\u001b[1;32m    853\u001b[0m             \u001b[0mself\u001b[0m\u001b[0;34m.\u001b[0m\u001b[0m_parent_header\u001b[0m\u001b[0;34m,\u001b[0m\u001b[0;34m\u001b[0m\u001b[0;34m\u001b[0m\u001b[0m\n\u001b[0;32m--> 854\u001b[0;31m             \u001b[0mpassword\u001b[0m\u001b[0;34m=\u001b[0m\u001b[0;32mFalse\u001b[0m\u001b[0;34m,\u001b[0m\u001b[0;34m\u001b[0m\u001b[0;34m\u001b[0m\u001b[0m\n\u001b[0m\u001b[1;32m    855\u001b[0m         )\n\u001b[1;32m    856\u001b[0m \u001b[0;34m\u001b[0m\u001b[0m\n",
      "\u001b[0;32m~/anaconda3/envs/modu_robai_drlnd/lib/python3.6/site-packages/ipykernel/kernelbase.py\u001b[0m in \u001b[0;36m_input_request\u001b[0;34m(self, prompt, ident, parent, password)\u001b[0m\n\u001b[1;32m    893\u001b[0m             \u001b[0;32mexcept\u001b[0m \u001b[0mKeyboardInterrupt\u001b[0m\u001b[0;34m:\u001b[0m\u001b[0;34m\u001b[0m\u001b[0;34m\u001b[0m\u001b[0m\n\u001b[1;32m    894\u001b[0m                 \u001b[0;31m# re-raise KeyboardInterrupt, to truncate traceback\u001b[0m\u001b[0;34m\u001b[0m\u001b[0;34m\u001b[0m\u001b[0;34m\u001b[0m\u001b[0m\n\u001b[0;32m--> 895\u001b[0;31m                 \u001b[0;32mraise\u001b[0m \u001b[0mKeyboardInterrupt\u001b[0m\u001b[0;34m(\u001b[0m\u001b[0;34m\"Interrupted by user\"\u001b[0m\u001b[0;34m)\u001b[0m \u001b[0;32mfrom\u001b[0m \u001b[0;32mNone\u001b[0m\u001b[0;34m\u001b[0m\u001b[0;34m\u001b[0m\u001b[0m\n\u001b[0m\u001b[1;32m    896\u001b[0m             \u001b[0;32mexcept\u001b[0m \u001b[0mException\u001b[0m \u001b[0;32mas\u001b[0m \u001b[0me\u001b[0m\u001b[0;34m:\u001b[0m\u001b[0;34m\u001b[0m\u001b[0;34m\u001b[0m\u001b[0m\n\u001b[1;32m    897\u001b[0m                 \u001b[0mself\u001b[0m\u001b[0;34m.\u001b[0m\u001b[0mlog\u001b[0m\u001b[0;34m.\u001b[0m\u001b[0mwarning\u001b[0m\u001b[0;34m(\u001b[0m\u001b[0;34m\"Invalid Message:\"\u001b[0m\u001b[0;34m,\u001b[0m \u001b[0mexc_info\u001b[0m\u001b[0;34m=\u001b[0m\u001b[0;32mTrue\u001b[0m\u001b[0;34m)\u001b[0m\u001b[0;34m\u001b[0m\u001b[0;34m\u001b[0m\u001b[0m\n",
      "\u001b[0;31mKeyboardInterrupt\u001b[0m: Interrupted by user"
     ]
    }
   ],
   "source": [
    "env_info = env.reset(train_mode=False)[brain_name] # reset the environment\n",
    "state = env_info.vector_observations[0]            # get the current state\n",
    "score = 0                                          # initialize the score\n",
    "while True:\n",
    "    action = np.random.randint(action_size)        # select an action\n",
    "#     action = int(input())\n",
    "    env_info = env.step(action)[brain_name]        # send the action to the environment\n",
    "    next_state = env_info.vector_observations[0]   # get the next state\n",
    "    reward = env_info.rewards[0]                   # get the reward\n",
    "    done = env_info.local_done[0]                  # see if episode has finished\n",
    "    score += reward                                # update the score\n",
    "    state = next_state                             # roll over the state to next time step\n",
    "    \n",
    "    print(f'action: {action}, reward: {reward}, score: {score}, state: {state}')\n",
    "    if done:                                       # exit loop if episode finished\n",
    "        break\n",
    "    \n",
    "print(\"Score: {}\".format(score))"
   ]
  },
  {
   "cell_type": "markdown",
   "metadata": {},
   "source": [
    "When finished, you can close the environment."
   ]
  },
  {
   "cell_type": "code",
   "execution_count": 7,
   "metadata": {},
   "outputs": [],
   "source": [
    "env.close()"
   ]
  },
  {
   "cell_type": "markdown",
   "metadata": {},
   "source": [
    "### 4. It's Your Turn!\n",
    "\n",
    "Now it's your turn to train your own agent to solve the environment!  When training the environment, set `train_mode=True`, so that the line for resetting the environment looks like the following:\n",
    "```python\n",
    "env_info = env.reset(train_mode=True)[brain_name]\n",
    "```"
   ]
  }
 ],
 "metadata": {
  "kernelspec": {
   "display_name": "drlnd",
   "language": "python",
   "name": "drlnd"
  },
  "language_info": {
   "codemirror_mode": {
    "name": "ipython",
    "version": 3
   },
   "file_extension": ".py",
   "mimetype": "text/x-python",
   "name": "python",
   "nbconvert_exporter": "python",
   "pygments_lexer": "ipython3",
   "version": "3.6.13"
  }
 },
 "nbformat": 4,
 "nbformat_minor": 2
}
